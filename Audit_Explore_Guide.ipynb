{
 "cells": [
  {
   "cell_type": "markdown",
   "metadata": {},
   "source": [
    "Import necessary packages"
   ]
  },
  {
   "cell_type": "code",
   "execution_count": 1,
   "metadata": {
    "ExecuteTime": {
     "end_time": "2019-12-18T14:12:31.658432Z",
     "start_time": "2019-12-18T14:12:30.931432Z"
    }
   },
   "outputs": [],
   "source": [
    "import json\n",
    "import csv\n",
    "from selenium import webdriver\n",
    "from selenium.webdriver.common.keys import Keys\n",
    "from selenium.webdriver.support.ui import Select\n",
    "#from selenium.webdriver.support.ui import WebDriverWait\n",
    "from selenium.webdriver.common.desired_capabilities import DesiredCapabilities\n",
    "\n",
    "from browserupproxy import Server\n",
    "import psutil\n",
    "from datetime import date, datetime\n",
    "import time\n",
    "from urllib.parse import urlparse\n",
    "\n",
    "import os\n",
    "import glob\n",
    "import shutil\n",
    "\n",
    "import pandas as pd"
   ]
  },
  {
   "cell_type": "code",
   "execution_count": null,
   "metadata": {},
   "outputs": [],
   "source": []
  },
  {
   "cell_type": "markdown",
   "metadata": {},
   "source": [
    "# Interact with WebPage - Selenium \n",
    "Detialed Guide is in <a href = 'https://selenium-python.readthedocs.io/getting-started.html'>selenium python</a>\n",
    "1. Download a file on a click event using <a href = 'https://selenium-python.readthedocs.io/installation.html#downloading-python-bindings-for-selenium'>selenium</a><br>\n",
    "2. Install driver. a <b>Driver</b> is needed to interface with the chosen browser.For Chrome, use <a href = 'https://sites.google.com/a/chromium.org/chromedriver/downloads'>chromedriver</a> with right version. This driver is also needed to be installed and in the <i>PATH</i>. The port code: 9515<br>\n",
    "3. Import Keys from <i>selenium.webdriver</i> module in order to get keys in the keyboard like RETURN, F1, ALT\n",
    "4. Create a WebDriver instance\n",
    "5. <i>driver.get</i> method will navigate to a page given by the URL. WebDriver will wait until the page has fully loaded before returning control to your script. \n",
    "6. WebDriver offers a number of ways to find elements using one of the <i>.find_element_by_*</i> methods. Then you can use <i>.send_keys('xxx')</i> to pass variables. Be sure to refer to the <b>page inspect</b> to help get the element information. For example, if you want to pass 'username' and 'password', you can use <i>.find_element_by_id('username')</i> based on the following page code. \n",
    "<img src = 'up.PNG' width = 500>\n",
    "More methods can be found in <a href = 'https://selenium-python.readthedocs.io/locating-elements.html#locating-elements'>Locating Elements</a> chapter.\n",
    "7. Send keys to elements, which is similar to entering keys using the keyboard. Special keys(ENTER, ALT, SHIFT,etc) can be passed by <i><b>Keys</i></b> module."
   ]
  },
  {
   "cell_type": "code",
   "execution_count": null,
   "metadata": {
    "ExecuteTime": {
     "end_time": "2019-12-05T20:42:13.074485Z",
     "start_time": "2019-12-05T20:42:10.221485Z"
    }
   },
   "outputs": [],
   "source": [
    "#open chromedriver\n",
    "chrome_options = webdriver.ChromeOptions()\n",
    "chrome_options.add_argument('--no-sandbox')\n",
    "#2. create a driver instance\n",
    "driver = webdriver.Chrome('C:/Users/tianyi.fang/Documents/chromedriver/chromedriver.exe', options=chrome_options)\n",
    "# navigate the page\n",
    "driver.get(\"https://infinedi.net/\")"
   ]
  },
  {
   "cell_type": "code",
   "execution_count": null,
   "metadata": {
    "ExecuteTime": {
     "end_time": "2019-12-05T20:42:14.292485Z",
     "start_time": "2019-12-05T20:42:14.220485Z"
    }
   },
   "outputs": [],
   "source": [
    "#find the 'Sign in' div and do click \n",
    "driver.find_element_by_link_text('Sign In').click()"
   ]
  },
  {
   "cell_type": "code",
   "execution_count": null,
   "metadata": {
    "ExecuteTime": {
     "end_time": "2019-12-05T20:42:29.295485Z",
     "start_time": "2019-12-05T20:42:29.148485Z"
    }
   },
   "outputs": [],
   "source": [
    "print(len(driver.find_elements_by_id('username')))"
   ]
  },
  {
   "cell_type": "code",
   "execution_count": null,
   "metadata": {
    "ExecuteTime": {
     "end_time": "2019-12-05T20:42:53.513485Z",
     "start_time": "2019-12-05T20:42:51.487485Z"
    }
   },
   "outputs": [],
   "source": [
    "#find the signin section to pop up login page, the section is a link\n",
    "# find the pass username and password\n",
    "elem = driver.find_element_by_id('username')\n",
    "elem.click()\n",
    "elem.send_keys('migtest')\n",
    "elem = driver.find_element_by_id('password')\n",
    "elem.click()\n",
    "elem.send_keys('Kverbo1430!')\n",
    "#pass ENTER commend\n",
    "elem.send_keys(Keys.RETURN)               "
   ]
  },
  {
   "cell_type": "code",
   "execution_count": null,
   "metadata": {},
   "outputs": [],
   "source": [
    "driver.find_element_by_link_text('Sign In').click()"
   ]
  },
  {
   "cell_type": "code",
   "execution_count": null,
   "metadata": {
    "ExecuteTime": {
     "end_time": "2019-12-05T15:09:05.071963Z",
     "start_time": "2019-12-05T15:09:04.826963Z"
    }
   },
   "outputs": [],
   "source": [
    "driver.quit()"
   ]
  },
  {
   "cell_type": "markdown",
   "metadata": {},
   "source": [
    "Seletium just open the page in a browser, Now using BrowserMob_Proxy to capture the network calls."
   ]
  },
  {
   "cell_type": "markdown",
   "metadata": {},
   "source": [
    "# Automated Tester - BrowserMob_Proxy\n",
    "\n",
    "Antomatically get the har file after each click.<BR>\n",
    "This step requires <a href = 'https://browsermob-proxy-py.readthedocs.io/en/stable/'>BrowserMob Proxy</a> package, together with seleuim package. In first time, we need to download this app from <a href = 'https://bmp.lightbody.net/'>Download BrowserMob Proxy</a> and then paste the path to server. \n",
    "- **Browsermob_proxy** allows us to manipulate HTTP requests and responses, capture HTTP content and export performnace data as a HAR file. It also allows to manipulate broswer behavior and traffic, such as stimulating network traffic, rewriting HTTP requests and responses. \n",
    "- **HAR** file is HTTP Archive, a JSON format used for tracking information between a web browser and a website. It id primarily used for identifying **1) performance issue** such as bottlenecks and slow load times and **2)page rendering problems**. Detailed information of HAR file, go <a href = 'https://developers.google.com/web/tools/chrome-devtools/network/resource-loading?utm_campaign=2016q3&utm_medium=redirect&utm_source=dcc#resource-network-timing'>this link</a>.\n",
    "- **WebDriver** is a tool for automating web application testing.<br>\n",
    "\n",
    "Steps:\n",
    "1. Setup the server\n",
    "2. setup driver\n",
    "3. get HAR file\n",
    "4. quit driver and stop server\n",
    "\n",
    "<mark><B>Notice BroswerMob-Proxy hasn't been updated since 2016, it will lose some information of actual har file from manual download from Chrome DevTool-Network.</b><br>The alternative is browserup-proxy<br></mark>"
   ]
  },
  {
   "cell_type": "code",
   "execution_count": null,
   "metadata": {
    "ExecuteTime": {
     "end_time": "2019-12-06T15:05:20.531085Z",
     "start_time": "2019-12-06T15:05:18.432085Z"
    }
   },
   "outputs": [],
   "source": [
    "#1. Start the server\n",
    "#use the last line of help('browsermobproxy') to get the module location\n",
    "server = Server(path=\"C:\\\\Users\\\\tianyi.fang\\\\Documents\\\\browserup-proxy-1.1.0\\\\bin\\\\browsermob-proxy\")\n",
    "server.start()\n",
    "proxy = server.create_proxy()\n",
    "time.sleep(1)   #This helps in getting rid of some intermittent issues which can be faced dur to server taking time to start\n",
    "proxy.new_har('test1') #start a new proxy, named test1"
   ]
  },
  {
   "cell_type": "code",
   "execution_count": null,
   "metadata": {
    "ExecuteTime": {
     "end_time": "2019-12-06T15:05:26.362085Z",
     "start_time": "2019-12-06T15:05:23.102085Z"
    }
   },
   "outputs": [],
   "source": [
    "#2. setup selectium driver to run on proxy\n",
    "chrome_options = webdriver.ChromeOptions()\n",
    "chrome_options.add_argument(\"--proxy-server={0}\".format(proxy.proxy))\n",
    "driver = webdriver.Chrome(options = chrome_options)\n",
    "driver.get(\"https://www.infinedi.net/\")"
   ]
  },
  {
   "cell_type": "code",
   "execution_count": null,
   "metadata": {
    "ExecuteTime": {
     "end_time": "2019-12-06T15:05:29.307085Z",
     "start_time": "2019-12-06T15:05:29.272085Z"
    }
   },
   "outputs": [],
   "source": [
    "#3. Export HAR file\n",
    "\n",
    "with open('test.har', 'w') as har_file:\n",
    "    json.dump(proxy.har, har_file)"
   ]
  },
  {
   "cell_type": "code",
   "execution_count": null,
   "metadata": {
    "ExecuteTime": {
     "end_time": "2019-12-05T18:52:38.358149Z",
     "start_time": "2019-12-05T18:52:38.334149Z"
    }
   },
   "outputs": [],
   "source": [
    "#stop the server\n",
    "server.stop()"
   ]
  },
  {
   "cell_type": "markdown",
   "metadata": {},
   "source": [
    "Combine seletium actions and authentication to hit the Infinedi home page."
   ]
  },
  {
   "cell_type": "code",
   "execution_count": null,
   "metadata": {
    "ExecuteTime": {
     "end_time": "2019-12-12T21:15:43.223106Z",
     "start_time": "2019-12-12T21:15:20.631926Z"
    }
   },
   "outputs": [],
   "source": [
    "#1.set up proxy server\n",
    "server = Server(\"C:\\\\Users\\\\tianyi.fang\\\\Documents\\\\browserup-proxy-1.1.0\\\\bin\\\\browserup-proxy\")\n",
    "server.start()\n",
    "proxy = server.create_proxy()\n",
    "\n",
    "#2.set up chrome driver\n",
    "chrome_options = webdriver.ChromeOptions()\n",
    "chrome_options.add_argument(\"--proxy-server={0}\".format(proxy.proxy))\n",
    "driver = webdriver.Chrome(options = chrome_options)\n",
    "#3.\n",
    "proxy.new_har('mig_land')\n",
    "driver.get(\"https://www.infinedi.net/\")\n",
    "\n",
    "driver.find_element_by_link_text('Sign In').click()  #find sign-in bottom"
   ]
  },
  {
   "cell_type": "code",
   "execution_count": null,
   "metadata": {
    "ExecuteTime": {
     "end_time": "2019-12-12T21:15:57.846186Z",
     "start_time": "2019-12-12T21:15:45.993390Z"
    }
   },
   "outputs": [],
   "source": [
    "time.sleep(10)\n",
    "elem = driver.find_element_by_id('username')\n",
    "elem.click()\n",
    "elem.send_keys('migtest')\n",
    "elem = driver.find_element_by_id('password')\n",
    "elem.click()\n",
    "elem.send_keys('Kverbo1430!')\n",
    "#pass ENTER commend\n",
    "elem.send_keys(Keys.RETURN) "
   ]
  },
  {
   "cell_type": "code",
   "execution_count": null,
   "metadata": {
    "ExecuteTime": {
     "end_time": "2019-12-12T21:16:02.742304Z",
     "start_time": "2019-12-12T21:16:02.264210Z"
    }
   },
   "outputs": [],
   "source": [
    "proxy.new_har('mig_land_cp')\n",
    "driver.get('https://www.infinedi.net/Dashboard#/claimsprocessing')\n",
    "driver.refresh()\n",
    "#save to local\n",
    "with open('test3.har', 'w') as har_file: json.dump(proxy.har, har_file)"
   ]
  },
  {
   "cell_type": "code",
   "execution_count": null,
   "metadata": {
    "ExecuteTime": {
     "end_time": "2019-12-12T21:16:15.010209Z",
     "start_time": "2019-12-12T21:16:12.814266Z"
    }
   },
   "outputs": [],
   "source": [
    "server.stop()\n",
    "driver.quit()"
   ]
  },
  {
   "cell_type": "markdown",
   "metadata": {},
   "source": [
    "## Auto HAR generator w Client \n",
    "This function requires exact Username and Password for each Client. **Be careful the test username and password might be expired**."
   ]
  },
  {
   "cell_type": "code",
   "execution_count": null,
   "metadata": {
    "ExecuteTime": {
     "end_time": "2019-12-06T20:07:55.883085Z",
     "start_time": "2019-12-06T20:07:55.873085Z"
    }
   },
   "outputs": [],
   "source": [
    "#combine as a function\n",
    "def gethar(user_name, password,infinedi_dict):\n",
    "    server = Server(path=\"C:\\\\Users\\\\tianyi.fang\\\\Documents\\\\browserup-proxy-1.1.0\\\\bin\\\\browserup-proxy\")\n",
    "    server.start()\n",
    "    proxy = server.create_proxy()\n",
    "    \n",
    "    chrome_options = webdriver.ChromeOptions()\n",
    "    chrome_options.add_argument(\"window-size=1400,800\")\n",
    "    chrome_options.add_argument(\"--proxy-server={0}\".format(proxy.proxy))\n",
    "    driver = webdriver.Chrome(options = chrome_options)\n",
    "    driver.get(\"https://www.infinedi.net/\")\n",
    "    driver.find_element_by_link_text('Sign In').click()\n",
    "    time.sleep(5)\n",
    "    driver.find_element_by_id('username').send_keys(user_name) #find username blank\n",
    "    driver.find_element_by_id('password').send_keys(password)\n",
    "    driver.find_element_by_class_name('login-button').click()\n",
    "    time.sleep(60)\n",
    "    print('Logined Success')\n",
    "    for name, url in infinedi_dict.items():\n",
    "        file_name = name +'_' + str(datetime.now().strftime(\"%y%m%d%H%M%S\"))\n",
    "        #print(file_name)\n",
    "        proxy.new_har(url)\n",
    "        driver.get(url)\n",
    "        driver.refresh()\n",
    "        file_har = 'C:/Users/tianyi.fang/Desktop/TF/projects/WebPage_Audit/Chorme_Audit/' +file_name+'.har'\n",
    "        with open(file_har, 'w') as har_file: json.dump(proxy.har, har_file)\n",
    "        time.sleep(60)\n",
    "        print('Har file of'+name+ ' Done')\n",
    "    #infinedi Analytics\n",
    "    \n",
    "    server.stop()\n",
    "    driver.quit()"
   ]
  },
  {
   "cell_type": "code",
   "execution_count": null,
   "metadata": {
    "ExecuteTime": {
     "end_time": "2019-12-06T20:02:14.851085Z",
     "start_time": "2019-12-06T20:02:14.839085Z"
    }
   },
   "outputs": [],
   "source": [
    "str(datetime.now().strftime(\"%y%m%d%H%M%S\"))"
   ]
  },
  {
   "cell_type": "code",
   "execution_count": null,
   "metadata": {
    "ExecuteTime": {
     "end_time": "2019-12-09T15:49:12.511085Z",
     "start_time": "2019-12-09T15:49:12.501085Z"
    }
   },
   "outputs": [],
   "source": [
    "mig_user = 'migtest'\n",
    "mig_pass = \"Kverbo1430!\"\n",
    "infinedi_dict = {'ClaimProcessing' : 'https://www.infinedi.net/Dashboard#/claimsprocessing/',\n",
    "                'InputFileProcessing' : 'https://www.infinedi.net/Dashboard#/inputfileprocessing',\n",
    "                'ERA' : 'https://www.infinedi.net/Dashboard#/erapage',\n",
    "                 'UserManagement': 'https://www.infinedi.net/Dashboard#/usermanagement',\n",
    "                 'News': 'https://www.infinedi.net/Dashboard#/Utilities/News',\n",
    "                 'Downloads': 'https://www.infinedi.net/Dashboard#/download',\n",
    "                 'Alerts': 'https://www.infinedi.net/Dashboard#/Utilities/Alerts' \n",
    "                 \n",
    "                }"
   ]
  },
  {
   "cell_type": "markdown",
   "metadata": {},
   "source": [
    "One time Execution"
   ]
  },
  {
   "cell_type": "code",
   "execution_count": null,
   "metadata": {
    "ExecuteTime": {
     "end_time": "2019-12-06T20:16:46.571085Z",
     "start_time": "2019-12-06T20:08:08.238085Z"
    }
   },
   "outputs": [],
   "source": [
    "gethar(user_name, password, infinedi_dict)"
   ]
  },
  {
   "cell_type": "markdown",
   "metadata": {},
   "source": [
    "Automatic execution"
   ]
  },
  {
   "cell_type": "code",
   "execution_count": null,
   "metadata": {
    "ExecuteTime": {
     "end_time": "2019-12-06T17:59:44.062085Z",
     "start_time": "2019-12-06T17:50:54.533085Z"
    }
   },
   "outputs": [],
   "source": [
    "#execute this function 100 times for every 5 minutes. \n",
    "for _ in range(100):\n",
    "    gethar(user_name, password, infinedi_dict)\n",
    "    time.sleep(300)"
   ]
  },
  {
   "cell_type": "markdown",
   "metadata": {},
   "source": [
    "add additional actions for each webpage"
   ]
  },
  {
   "cell_type": "code",
   "execution_count": null,
   "metadata": {},
   "outputs": [],
   "source": [
    "#combine as a function\n",
    "def getDashBoardhar(user_name, password,infinedi_dict):\n",
    "    server = Server(path=\"C:\\\\Users\\\\tianyi.fang\\\\Documents\\\\browserup-proxy-1.1.0\\\\bin\\\\browserup-proxy\")\n",
    "    server.start()\n",
    "    proxy = server.create_proxy()\n",
    "    \n",
    "    chrome_options = webdriver.ChromeOptions()\n",
    "    chrome_options.add_argument(\"window-size=1400,800\")\n",
    "    chrome_options.add_argument(\"--proxy-server={0}\".format(proxy.proxy))\n",
    "    driver = webdriver.Chrome(options = chrome_options)\n",
    "    driver.get(\"https://www.infinedi.net/\")\n",
    "    driver.find_element_by_link_text('Sign In').click()\n",
    "    time.sleep(5)\n",
    "    driver.find_element_by_id('username').send_keys(user_name) #find username blank\n",
    "    driver.find_element_by_id('password').send_keys(password)\n",
    "    driver.find_element_by_class_name('login-button').click()\n",
    "    time.sleep(60)\n",
    "    print('Logined Success')\n",
    "    for name, url in infinedi_dict.items():\n",
    "        file_name = name +'_' + str(datetime.now().strftime(\"%y%m%d%H%M%S\"))\n",
    "        #print(file_name)\n",
    "        proxy.new_har(url)\n",
    "        driver.get(url)\n",
    "        driver.refresh()\n",
    "        file_har = 'C:/Users/tianyi.fang/Desktop/TF/projects/WebPage_Audit/Chorme_Audit/' +file_name+'.har'\n",
    "        with open(file_har, 'w') as har_file: json.dump(proxy.har, har_file)\n",
    "        time.sleep(60)\n",
    "        print('Har file of'+name+ ' Done')\n",
    "    #infinedi Analytics\n",
    "    \n",
    "    server.stop()\n",
    "    driver.quit()"
   ]
  },
  {
   "cell_type": "markdown",
   "metadata": {},
   "source": [
    "## Generate for Infinedi Analytics"
   ]
  },
  {
   "cell_type": "code",
   "execution_count": 2,
   "metadata": {
    "ExecuteTime": {
     "end_time": "2019-12-18T14:12:51.525432Z",
     "start_time": "2019-12-18T14:12:51.501432Z"
    }
   },
   "outputs": [],
   "source": [
    "def getanalyticshar(user_name, password):\n",
    "        \n",
    "    server = Server(path=\"C:\\\\Users\\\\tianyi.fang\\\\Documents\\\\browserup-proxy-1.1.0\\\\bin\\\\browserup-proxy\")\n",
    "    server.start()\n",
    "    proxy = server.create_proxy()\n",
    "    \n",
    "    chrome_options = webdriver.ChromeOptions()\n",
    "    chrome_options.add_argument(\"window-size=1400,800\")\n",
    "    chrome_options.add_argument(\"--proxy-server={0}\".format(proxy.proxy))\n",
    "    driver = webdriver.Chrome(options = chrome_options)\n",
    "    \n",
    "    proxy.new_har('Analytics')\n",
    "    driver.get(\"https://analyticsmobile.infinedi.net/InfinediLogin.aspx\")\n",
    "    time.sleep(1)\n",
    "    driver.find_element_by_id('Username').send_keys(user_name) #find username blank\n",
    "    driver.find_element_by_id('password').send_keys(password)\n",
    "    driver.find_element_by_id('btnSubmit').click()\n",
    "    print('Logined Success')\n",
    "    time.sleep(1)\n",
    "    \n",
    "    #select client\n",
    "    select_client = Select(driver.find_element_by_id('selChildCliCodes'))\n",
    "    select_client.select_by_value('MIG - MISRA CHIROPRACTIC CLINIC')\n",
    "    time.sleep(1)\n",
    "    select_provider = Select(driver.find_element_by_id('providerdetid'))\n",
    "    select_provider.select_by_value('MISRA DC BIBHU - NPI: 1871593327')\n",
    "    time.sleep(1)\n",
    "    print('Select Client&provider Success')\n",
    "    #print('Before click',  datetime.now())\n",
    "    driver.find_element_by_id('btnSubmit').click()\n",
    "    #print('After click', datetime.now())\n",
    "    print('Laoding Dashboard Success')\n",
    "    time.sleep(60)\n",
    "    #print('After sleep',  datetime.now())\n",
    "    file_name = 'Analytics_' + str(datetime.now().strftime(\"%y%m%d%H%M%S\"))\n",
    "    file_har = 'C:/Users/tianyi.fang/Desktop/TF/projects/WebPage_Audit/Chorme_Audit/' +file_name+'.har'\n",
    "    with open(file_har, 'w') as har_file: json.dump(proxy.har, har_file)\n",
    "    time.sleep(10)\n",
    "    print('Har file of Analytics Done')\n",
    "    \n",
    "    server.stop()\n",
    "    driver.quit()"
   ]
  },
  {
   "cell_type": "code",
   "execution_count": 3,
   "metadata": {
    "ExecuteTime": {
     "end_time": "2019-12-18T14:12:53.144432Z",
     "start_time": "2019-12-18T14:12:53.119432Z"
    }
   },
   "outputs": [],
   "source": [
    "def getanalyticslocalhar(user_name, password):\n",
    "        \n",
    "    server = Server(path=\"C:\\\\Users\\\\tianyi.fang\\\\Documents\\\\browserup-proxy-1.1.0\\\\bin\\\\browserup-proxy\")\n",
    "    server.start()\n",
    "    proxy = server.create_proxy()\n",
    "    \n",
    "    chrome_options = webdriver.ChromeOptions()\n",
    "    chrome_options.add_argument(\"window-size=1400,800\")\n",
    "    chrome_options.add_argument(\"--proxy-server={0}\".format(proxy.proxy))\n",
    "    driver = webdriver.Chrome(options = chrome_options)\n",
    "    \n",
    "    proxy.new_har('Analytics_local')\n",
    "    driver.get(\"http://analyticsmobile.infinedi.local/InfinediLogin.aspx\")\n",
    "    time.sleep(1)\n",
    "    driver.find_element_by_id('Username').send_keys(user_name) #find username blank\n",
    "    driver.find_element_by_id('password').send_keys(password)\n",
    "    driver.find_element_by_id('btnSubmit').click()\n",
    "    print('Logined Success')\n",
    "    time.sleep(1)\n",
    "    \n",
    "    #select client\n",
    "    select_client = Select(driver.find_element_by_id('selChildCliCodes'))\n",
    "    select_client.select_by_value('MIG - MISRA CHIROPRACTIC CLINIC')\n",
    "    time.sleep(1)\n",
    "    select_provider = Select(driver.find_element_by_id('providerdetid'))\n",
    "    select_provider.select_by_value('BIBHU MISRA DC - NPI: 1871593327')\n",
    "    time.sleep(1)\n",
    "    print('Select Client&provider Success')\n",
    "    #print('Before click', datetime.now())\n",
    "    driver.find_element_by_id('btnSubmit').click()\n",
    "    #print('After click', datetime.now())\n",
    "    print('Laoding Dashboard Success')\n",
    "    time.sleep(100)\n",
    "    #print('After sleep', datetime.now())\n",
    "    #phase2\n",
    "    driver.find_element_by_name('ErrorAnalysisTab').click()\n",
    "    time.sleep(30)\n",
    "    driver.find_element_by_name('PayerAnalysisTab').click()\n",
    "    time.sleep(20)\n",
    "    file_name = 'Analyticslocal_' + str(datetime.now().strftime(\"%y%m%d%H%M%S\"))\n",
    "    file_har = 'C:/Users/tianyi.fang/Desktop/TF/projects/WebPage_Audit/Chorme_Audit/' +file_name+'.har'\n",
    "    with open(file_har, 'w') as har_file: json.dump(proxy.har, har_file)\n",
    "    print('Har file of Analytics_local Done')\n",
    "    \n",
    "    server.stop()\n",
    "    driver.quit()"
   ]
  },
  {
   "cell_type": "code",
   "execution_count": 4,
   "metadata": {
    "ExecuteTime": {
     "end_time": "2019-12-18T14:12:56.856432Z",
     "start_time": "2019-12-18T14:12:56.849432Z"
    }
   },
   "outputs": [],
   "source": [
    "mig_user = 'migtest'\n",
    "mig_pass = \"Kverbo1430!\"\n",
    "wa_prod = \"https://analyticsmobile.infinedi.net/InfinediLogin.aspx\"\n",
    "wa_local = \"http://analyticsmobile.infinedi.local/InfinediLogin.aspx\""
   ]
  },
  {
   "cell_type": "code",
   "execution_count": null,
   "metadata": {
    "ExecuteTime": {
     "end_time": "2019-12-12T17:47:15.107243Z",
     "start_time": "2019-12-12T17:45:54.004856Z"
    }
   },
   "outputs": [],
   "source": [
    "getanalyticshar(mig_user, mig_pass)"
   ]
  },
  {
   "cell_type": "code",
   "execution_count": 12,
   "metadata": {
    "ExecuteTime": {
     "end_time": "2019-12-19T15:24:45.742432Z",
     "start_time": "2019-12-19T14:44:32.126432Z"
    }
   },
   "outputs": [
    {
     "name": "stdout",
     "output_type": "stream",
     "text": [
      "0\n",
      "Logined Success\n",
      "Select Client&provider Success\n",
      "Laoding Dashboard Success\n",
      "Har file of Analytics Done\n",
      "1\n",
      "Logined Success\n",
      "Select Client&provider Success\n",
      "Laoding Dashboard Success\n",
      "Har file of Analytics Done\n",
      "2\n",
      "Logined Success\n",
      "Select Client&provider Success\n",
      "Laoding Dashboard Success\n",
      "Har file of Analytics Done\n",
      "3\n",
      "Logined Success\n",
      "Select Client&provider Success\n",
      "Laoding Dashboard Success\n",
      "Har file of Analytics Done\n",
      "4\n",
      "Logined Success\n",
      "Select Client&provider Success\n",
      "Laoding Dashboard Success\n",
      "Har file of Analytics Done\n",
      "5\n",
      "Logined Success\n",
      "Select Client&provider Success\n",
      "Laoding Dashboard Success\n",
      "Har file of Analytics Done\n",
      "6\n",
      "Logined Success\n",
      "Select Client&provider Success\n",
      "Laoding Dashboard Success\n",
      "Har file of Analytics Done\n",
      "7\n",
      "Logined Success\n",
      "Select Client&provider Success\n",
      "Laoding Dashboard Success\n",
      "Har file of Analytics Done\n",
      "8\n",
      "Logined Success\n",
      "Select Client&provider Success\n",
      "Laoding Dashboard Success\n",
      "Har file of Analytics Done\n",
      "9\n",
      "Logined Success\n",
      "Select Client&provider Success\n",
      "Laoding Dashboard Success\n",
      "Har file of Analytics Done\n",
      "10\n",
      "Logined Success\n",
      "Select Client&provider Success\n",
      "Laoding Dashboard Success\n",
      "Har file of Analytics Done\n",
      "11\n",
      "Logined Success\n",
      "Select Client&provider Success\n",
      "Laoding Dashboard Success\n",
      "Har file of Analytics Done\n",
      "12\n",
      "Logined Success\n",
      "Select Client&provider Success\n",
      "Laoding Dashboard Success\n",
      "Har file of Analytics Done\n",
      "13\n",
      "Logined Success\n",
      "Select Client&provider Success\n",
      "Laoding Dashboard Success\n",
      "Har file of Analytics Done\n",
      "14\n",
      "Logined Success\n",
      "Select Client&provider Success\n",
      "Laoding Dashboard Success\n",
      "Har file of Analytics Done\n",
      "15\n",
      "Logined Success\n",
      "Select Client&provider Success\n",
      "Laoding Dashboard Success\n",
      "Har file of Analytics Done\n",
      "16\n",
      "Logined Success\n",
      "Select Client&provider Success\n",
      "Laoding Dashboard Success\n",
      "Har file of Analytics Done\n",
      "17\n",
      "Logined Success\n",
      "Select Client&provider Success\n",
      "Laoding Dashboard Success\n",
      "Har file of Analytics Done\n",
      "18\n",
      "Logined Success\n",
      "Select Client&provider Success\n",
      "Laoding Dashboard Success\n",
      "Har file of Analytics Done\n",
      "19\n",
      "Logined Success\n",
      "Select Client&provider Success\n",
      "Laoding Dashboard Success\n",
      "Har file of Analytics Done\n"
     ]
    }
   ],
   "source": [
    "#for Production\n",
    "for i in range(20):\n",
    "    print(i)\n",
    "    getanalyticshar(mig_user, mig_pass)\n",
    "    time.sleep(30)"
   ]
  },
  {
   "cell_type": "code",
   "execution_count": null,
   "metadata": {
    "ExecuteTime": {
     "end_time": "2019-12-16T14:36:49.462669Z",
     "start_time": "2019-12-16T14:36:49.453664Z"
    }
   },
   "outputs": [],
   "source": [
    "print(datetime.now())"
   ]
  },
  {
   "cell_type": "code",
   "execution_count": null,
   "metadata": {
    "ExecuteTime": {
     "end_time": "2019-12-16T14:38:54.887835Z",
     "start_time": "2019-12-16T14:36:57.376415Z"
    }
   },
   "outputs": [],
   "source": [
    "getanalyticslocalhar(mig_user, mig_pass)"
   ]
  },
  {
   "cell_type": "code",
   "execution_count": null,
   "metadata": {
    "ExecuteTime": {
     "end_time": "2019-12-16T21:17:54.232514Z",
     "start_time": "2019-12-16T21:16:35.414724Z"
    }
   },
   "outputs": [],
   "source": [
    "#for local\n",
    "for i in range(15): \n",
    "    getanalyticslocalhar(mig_user, mig_pass)\n",
    "    time.sleep(30)"
   ]
  },
  {
   "cell_type": "markdown",
   "metadata": {},
   "source": [
    "Try dynamic waiting by driver.execute_script()"
   ]
  },
  {
   "cell_type": "code",
   "execution_count": null,
   "metadata": {},
   "outputs": [],
   "source": [
    "server = Server(path=\"C:\\\\Users\\\\tianyi.fang\\\\Documents\\\\browsermob-proxy-2.1.4\\\\bin\\\\browsermob-proxy\")\n",
    "server.start()\n",
    "proxy = server.create_proxy()\n",
    "    \n",
    "chrome_options = webdriver.ChromeOptions()\n",
    "chrome_options.add_argument(\"window-size=1400,800\")\n",
    "chrome_options.add_argument(\"--proxy-server={0}\".format(proxy.proxy))\n",
    "driver = webdriver.Chrome(options = chrome_options)\n",
    "wait = WebDriverWait(driver, 5)    \n",
    "proxy.new_har('Analytics')\n",
    "driver.get(\"https://analyticsmobile.infinedi.net/InfinediLogin.aspx\")\n",
    "time.sleep(0.5)\n",
    "driver.find_element_by_id('Username').send_keys(user_name) #find username blank\n",
    "driver.find_element_by_id('password').send_keys(password)\n",
    "driver.find_element_by_id('btnSubmit').click()\n",
    "print('Logined Success')\n",
    "time.sleep(1)\n",
    "    \n",
    "#select client\n",
    "select_client = Select(driver.find_element_by_id('selChildCliCodes'))\n",
    "select_client.select_by_value('MIG - MISRA CHIROPRACTIC CLINIC')\n",
    "time.sleep(1)\n",
    "select_provider = Select(driver.find_element_by_id('providerdetid'))\n",
    "select_provider.select_by_value('MISRA DC BIBHU - NPI: 1871593327')\n",
    "time.sleep(1)\n",
    "print('Select Client&provider Success')\n",
    "driver.find_element_by_id('btnSubmit').click()\n",
    "wait.until(lambda driver: driver.execute_script('''return $('window.performance.timing.loadEventEnd')'''))\n",
    "print('Laoding Dashboard Success')\n"
   ]
  },
  {
   "cell_type": "markdown",
   "metadata": {},
   "source": [
    "## Auto HAR generater -- Master Username\n",
    "This login authentication is Infinedi Master, which means another 'Client Selection' step is needed in the landing dashboard page.<br>\n",
    "**Be careful about the selected clients that have sub clients.**"
   ]
  },
  {
   "cell_type": "code",
   "execution_count": null,
   "metadata": {
    "ExecuteTime": {
     "end_time": "2019-12-06T16:05:40.918085Z",
     "start_time": "2019-12-06T16:05:40.912085Z"
    }
   },
   "outputs": [],
   "source": [
    "ms_user = 'Tianyi.Fang'\n",
    "ms_pass = 'Seattle405'"
   ]
  },
  {
   "cell_type": "code",
   "execution_count": null,
   "metadata": {
    "ExecuteTime": {
     "end_time": "2019-12-06T16:06:04.867085Z",
     "start_time": "2019-12-06T16:05:45.556085Z"
    }
   },
   "outputs": [],
   "source": [
    "#.set up proxy server\n",
    "server = Server(path=\"C:\\\\Users\\\\tianyi.fang\\\\Documents\\\\browsermob-proxy-2.1.4\\\\bin\\\\browsermob-proxy\")\n",
    "server.start()\n",
    "proxy = server.create_proxy()\n",
    "#set up chrome\n",
    "chrome_options = webdriver.ChromeOptions()\n",
    "chrome_options.add_argument(\"--start-maximized\")\n",
    "chrome_options.add_argument(\"--proxy-server={0}\".format(proxy.proxy))\n",
    "driver = webdriver.Chrome(options = chrome_options)\n",
    "driver.get(\"https://www.infinedi.net/\")\n",
    "#login\n",
    "driver.find_element_by_link_text('Sign In').click()\n",
    "time.sleep(5)\n",
    "driver.find_element_by_id('username').send_keys(ms_user) #find username blank\n",
    "driver.find_element_by_id('password').send_keys(ms_pass)\n",
    "driver.find_element_by_class_name('login-button').click()\n",
    "time.sleep(10)\n",
    "print('Logined Success')"
   ]
  },
  {
   "cell_type": "code",
   "execution_count": null,
   "metadata": {
    "ExecuteTime": {
     "end_time": "2019-12-06T16:11:08.109085Z",
     "start_time": "2019-12-06T16:11:07.737085Z"
    }
   },
   "outputs": [],
   "source": [
    "#select client\n",
    "select_client = Select(driver.find_element_by_id('clientcodesdropdown'))\n",
    "select_client.select_by_value('VAF')\n",
    "driver.find_element_by_xpath('//img[contains(@src, \"/Images/Apply_Button.gif\")]').click()\n",
    "time.sleep(10)"
   ]
  },
  {
   "cell_type": "code",
   "execution_count": null,
   "metadata": {
    "ExecuteTime": {
     "end_time": "2019-12-05T22:16:41.650085Z",
     "start_time": "2019-12-05T22:16:41.635085Z"
    }
   },
   "outputs": [],
   "source": [
    "#generate har file for each panel on the initial dashboard\n",
    "for name, url in infinedi_dict.items():\n",
    "    print(name, '\\n', url)\n",
    "#     file_name = name + str(datetime.now().strftime(\"%d/%m/%Y\")) +'_'+ str(datetime.now().hour)\n",
    "#     proxy.new_bar(file_name)\n",
    "#     driver.get()"
   ]
  },
  {
   "cell_type": "markdown",
   "metadata": {},
   "source": [
    "## Get TACHC har file"
   ]
  },
  {
   "cell_type": "code",
   "execution_count": null,
   "metadata": {
    "ExecuteTime": {
     "end_time": "2019-12-11T15:05:08.438436Z",
     "start_time": "2019-12-11T15:05:08.435436Z"
    }
   },
   "outputs": [],
   "source": [
    "tachc_user = 'captain'\n",
    "tachc_pass = 'Qapp219$#'"
   ]
  },
  {
   "cell_type": "markdown",
   "metadata": {},
   "source": [
    "### execute_script()\n",
    "If you want to get Chrome DevTool Console: do driver.execute_script(). The unit is millisecond.<br>\n",
    "**Performance.Timing**<br>\n",
    "- navigationStart - This attribute returns the time spent after the user agent completes unloading the pervious page/document. If there was no document prior to loading the new page, navigationStart = fetchStart\n",
    "- responseStart - This attribute returns the time as soon as the user-agent receives the first byte from the server or from the local sources/application cache.\n",
    "- domComplete - This attribute returns the time just before the current document/page readiness is set to 'complete'. document.readyState status as 'complete' indicates that the parsing of page/document is complete& all the resources required for the page are downloaded. \n",
    "-\n",
    "-\n",
    "-\n",
    "-\n",
    "-\n",
    "**WebDriverWait**<br>\n",
    "WebDriverWait from **selenium** alllows page to wait until some condition. You can search for the persence of an element in the page to indicate whether the page is loaded or not. \n"
   ]
  },
  {
   "cell_type": "code",
   "execution_count": null,
   "metadata": {
    "ExecuteTime": {
     "end_time": "2019-12-11T15:07:00.654436Z",
     "start_time": "2019-12-11T15:05:41.768436Z"
    }
   },
   "outputs": [],
   "source": [
    "#EXECUTE_SCRIPT\n",
    "server = Server(path=\"C:\\\\Users\\\\tianyi.fang\\\\Documents\\\\browsermob-proxy-2.1.4\\\\bin\\\\browsermob-proxy\")\n",
    "server.start()\n",
    "proxy = server.create_proxy()\n",
    "    \n",
    "chrome_options = webdriver.ChromeOptions()\n",
    "chrome_options.add_argument(\"window-size=1400,800\")\n",
    "chrome_options.add_argument(\"--proxy-server={0}\".format(proxy.proxy))\n",
    "driver = webdriver.Chrome(options = chrome_options)\n",
    "    \n",
    "proxy.new_har('Tachc')\n",
    "driver.get(\"http://hccndemo.qvhsystems.com/\")\n",
    "driver.find_element_by_link_text('Login').click()\n",
    "time.sleep(1)\n",
    "driver.find_element_by_id('Username').send_keys(tachc_user) #find username blank\n",
    "time.sleep(1)\n",
    "driver.find_element_by_id('Password').send_keys(tachc_pass )\n",
    "time.sleep(1)\n",
    "driver.find_element_by_xpath(\"//input[@type = 'submit']\").click()\n",
    "nev_start = driver.execute_script(\"return window.performance.timing.navigationStart\") #\n",
    "rsp_start = driver.execute_script(\"return window.performance.timing.responseStart\")\n",
    "domComplete = driver.execute_script('return window.performance.timing.domComplete')\n",
    "loadeventEnd = driver.execute_script(\"return window.performance.timing.loadEventEnd\")\n",
    "print('BackEnd:{}'.format(rsp_start-nev_start))\n",
    "print('FrontEnd:{}'.format(domComplete-rsp_start))\n"
   ]
  },
  {
   "cell_type": "markdown",
   "metadata": {},
   "source": [
    "Time for the window.console is 13 digits Unix timestamp, divided by 1000 and convert to readable time format, but since we want the time_delta, no need to convert. "
   ]
  },
  {
   "cell_type": "code",
   "execution_count": null,
   "metadata": {
    "ExecuteTime": {
     "end_time": "2019-12-11T15:10:34.008436Z",
     "start_time": "2019-12-11T15:10:33.998436Z"
    }
   },
   "outputs": [],
   "source": [
    "print(rsp_start/1000 -nev_start/1000)"
   ]
  },
  {
   "cell_type": "code",
   "execution_count": null,
   "metadata": {
    "ExecuteTime": {
     "end_time": "2019-12-10T17:58:42.837436Z",
     "start_time": "2019-12-10T17:58:42.814436Z"
    }
   },
   "outputs": [],
   "source": [
    "def getTACHChar(user_name, password):\n",
    "    server = Server(path=\"C:\\\\Users\\\\tianyi.fang\\\\Documents\\\\browsermob-proxy-2.1.4\\\\bin\\\\browsermob-proxy\")\n",
    "    server.start()\n",
    "    proxy = server.create_proxy()\n",
    "    \n",
    "    chrome_options = webdriver.ChromeOptions()\n",
    "    chrome_options.add_argument(\"window-size=1400,800\")\n",
    "    chrome_options.add_argument(\"--proxy-server={0}\".format(proxy.proxy))\n",
    "    driver = webdriver.Chrome(options = chrome_options)\n",
    "    \n",
    "    proxy.new_har('Tachc')\n",
    "    driver.get(\"http://hccndemo.qvhsystems.com/\")\n",
    "    driver.find_element_by_link_text('Login').click()\n",
    "    time.sleep(1)\n",
    "    driver.find_element_by_id('Username').send_keys(user_name) #find username blank\n",
    "    time.sleep(1)\n",
    "    driver.find_element_by_id('Password').send_keys(password)\n",
    "    time.sleep(1)\n",
    "    driver.find_element_by_xpath(\"//input[@type = 'submit']\").click()\n",
    "    time.sleep(180)\n",
    "    print('Logined Success')\n",
    "    file_name = 'Tachc_' + str(datetime.now().strftime(\"%y%m%d%H%M%S\"))\n",
    "        #print(file_name)\n",
    "    \n",
    "    #driver.refresh()\n",
    "    file_har = 'C:/Users/tianyi.fang/Desktop/TF/projects/WebPage_Audit/Chorme_Audit/' +file_name+'.har'\n",
    "    with open(file_har, 'w') as har_file: json.dump(proxy.har, har_file)\n",
    "    time.sleep(10)\n",
    "    print('Har file Done')\n",
    "    #infinedi Analytics\n",
    "    \n",
    "    server.stop()\n",
    "    driver.quit()"
   ]
  },
  {
   "cell_type": "code",
   "execution_count": null,
   "metadata": {
    "ExecuteTime": {
     "end_time": "2019-12-10T18:05:27.262436Z",
     "start_time": "2019-12-10T17:58:45.509436Z"
    }
   },
   "outputs": [],
   "source": [
    "getTACHChar(tachc_user, tachc_pass)"
   ]
  },
  {
   "cell_type": "markdown",
   "metadata": {},
   "source": [
    "# Get performance\n",
    "<a href = 'https://github.com/browserup/browserup-proxy-py'>Here</a> is a new version of Proxy for auto scrubbing har file."
   ]
  },
  {
   "cell_type": "code",
   "execution_count": null,
   "metadata": {
    "ExecuteTime": {
     "end_time": "2019-12-11T16:12:17.775691Z",
     "start_time": "2019-12-11T16:12:17.736679Z"
    }
   },
   "outputs": [],
   "source": [
    "# #enable browser logging\n",
    "d = DesiredCapabilities.CHROME\n",
    "d['goog:loggingPrefs'] = {'performance': 'ALL'}\n",
    "driver = webdriver.Chrome(desired_capabilities=d)\n",
    "driver.get(\"https://www.infinedi.net/#\")\n",
    "driver.find_element_by_link_text('Sign In').click()\n",
    "time.sleep(5)\n",
    "driver.find_element_by_id('username').send_keys(mig_user) #find username blank\n",
    "driver.find_element_by_id('password').send_keys(mig_pass)\n",
    "driver.find_element_by_class_name('login-button').click()\n",
    "with open('performance.json', 'w') as per_json: json.dump(driver.get_log('performance'), per_json)\n",
    "#\n",
    "# with open('performance.csv', 'w', newline = '') as f:\n",
    "#     writer = csv.writer(f)\n",
    "    \n",
    "#     for entry in driver.get_log('performance'):\n",
    "#         writer.writerows()\n",
    "    "
   ]
  },
  {
   "cell_type": "markdown",
   "metadata": {},
   "source": [
    "# Convert HAR file to CSV\n",
    "Follow guide in <a href = 'https://gist.github.com/tomatohater/8853161'>parsehar.py</a> to convert har file into csv"
   ]
  },
  {
   "cell_type": "code",
   "execution_count": null,
   "metadata": {
    "ExecuteTime": {
     "end_time": "2019-12-10T18:06:46.816436Z",
     "start_time": "2019-12-10T18:06:46.800436Z"
    }
   },
   "outputs": [],
   "source": [
    "def har2csv(harfile_path, csv_path):\n",
    "    #read a har from path and dump to stdout\n",
    "    harfile = open(harfile_path, encoding=\"utf-8\")\n",
    "    harfile_json = json.loads(harfile.read())\n",
    "    i = 0\n",
    "    with open(csv_path + harfile_path[:-3] + 'csv', 'w', newline='') as f:\n",
    "        csv_file = csv.writer(f)\n",
    "        csv_file.writerow(['id', 'url', 'hostname','StartTime', 'Total_time','header_size', 'rsp_status', 'rsp_body_size(bytes)', 'rsp_body_size(kilobytes)', \n",
    "                           'rsp_content_mimetype', 'rsp_content_size', 'wait_time', 'send_time', 'receive_time', 'blocked_time', 'dns_time',\n",
    "                          'ssl_time', 'connect_time', 'priority', 'resourcetype', 'connection','fromCache'])  #19\n",
    "        # variables in \"entries\" \n",
    "        \n",
    "        for entry in harfile_json['log']['entries']:\n",
    "            i += 1\n",
    "            start_time = entry[\"startedDateTime\"]\n",
    "            time = entry['time']\n",
    "            url = entry['request']['url']\n",
    "            urlparts = urlparse(entry['request']['url']) #hostname\n",
    "            header_size = entry['response']['headersSize']\n",
    "            rsp_status = entry['response']['status']\n",
    "            rsp_size_bytes = entry['response']['bodySize']\n",
    "            rsp_size_kilobytes = float(entry['response']['bodySize'])/1024\n",
    "            \n",
    "            mimetype = 'unknown'\n",
    "            if 'mimeType' in entry['response']['content']:\n",
    "                mimetype = entry['response']['content']['mimeType']\n",
    "            content_size = entry['response']['content']['size']\n",
    "                        \n",
    "            send = entry['timings']['send']\n",
    "            wait = entry['timings']['wait']\n",
    "            receive = entry['timings']['receive']\n",
    "            blocked =  entry['timings']['blocked']\n",
    "            dns = entry['timings']['dns']\n",
    "            ssl = entry['timings']['ssl']\n",
    "            connect = entry['timings']['connect']\n",
    "            \n",
    "            #some har does not have the following measures, if Null, leave Null, otherwise, convert.\n",
    "            priority, resourcetype, connection, fromCache = 'NaN','NaN','NaN','NaN'\n",
    "            if \"_priority\" in entry:\n",
    "                priority = entry['_priority']\n",
    "            if \"_resourceType\" in entry:\n",
    "                resourcetype = entry[\"_resourceType\"]\n",
    "            if '_fromCache' in entry:\n",
    "                fromCache = entry['_fromCache']\n",
    "            if \"connection\" in entry:\n",
    "                connection = entry[\"connection\"]\n",
    "\n",
    "            csv_file.writerow([i, url, urlparts.hostname,start_time, time,header_size, rsp_status, rsp_size_bytes, rsp_size_kilobytes, mimetype,content_size,\n",
    "                              wait, send, receive, blocked, dns, ssl, connect, priority, resourcetype, connection, fromCache])"
   ]
  },
  {
   "cell_type": "code",
   "execution_count": null,
   "metadata": {
    "ExecuteTime": {
     "end_time": "2019-12-10T18:07:17.245436Z",
     "start_time": "2019-12-10T18:07:17.228436Z"
    }
   },
   "outputs": [],
   "source": [
    "har2csv('Tachc_191210120515.har', csv_path)"
   ]
  },
  {
   "cell_type": "code",
   "execution_count": 6,
   "metadata": {
    "ExecuteTime": {
     "end_time": "2019-12-18T15:15:00.655432Z",
     "start_time": "2019-12-18T15:15:00.640432Z"
    }
   },
   "outputs": [],
   "source": [
    "def har2csv_total(csv_path, cat_type, har_path, write_type):\n",
    "        \n",
    "    with open(csv_path + cat_type+'_total.csv', write_type, newline='') as f:\n",
    "        csv_file = csv.writer(f)\n",
    "        csv_file.writerow(['id', 'method','url', 'hostname','StartTime', 'Total_time','header_size', 'rsp_status', \n",
    "                           'rsp_body_size(bytes)', 'rsp_body_size(kilobytes)', 'rsp_content_mimetype', \n",
    "                           'wait_time', 'send_time', 'receive_time', 'blocked_time', 'dns_time','ssl_time', 'connect_time', \n",
    "                           'category'])  #19\n",
    "        # variables in \"entries\" \n",
    "        for file in glob.glob(cat_type+'_'+'*[0-9].har'):\n",
    "            print(file)\n",
    "            #read a har from path and dump to stdout\n",
    "            harfile = open(file, encoding=\"utf-8\")\n",
    "            harfile_json = json.loads(harfile.read())\n",
    "            i = 0\n",
    "            \n",
    "            for entry in harfile_json['log']['entries']:\n",
    "                i += 1\n",
    "                start_time = entry[\"startedDateTime\"]\n",
    "                time = entry['time']\n",
    "                method = entry['request']['method']\n",
    "                url = entry['request']['url']\n",
    "                urlparts = urlparse(entry['request']['url']) #hostname\n",
    "                header_size = entry['response']['headersSize']\n",
    "                rsp_status = entry['response']['status']\n",
    "                rsp_size_bytes = entry['response']['bodySize']\n",
    "                rsp_size_kilobytes = float(entry['response']['bodySize'])/1024\n",
    "            \n",
    "                mimetype = 'unknown'\n",
    "                if 'mimeType' in entry['response']['content']:\n",
    "                    mimetype = entry['response']['content']['mimeType']\n",
    "                        \n",
    "                send = entry['timings']['send']\n",
    "                wait = entry['timings']['wait']\n",
    "                receive = entry['timings']['receive']\n",
    "                blocked =  entry['timings']['blocked']\n",
    "                dns = entry['timings']['dns']\n",
    "                ssl = entry['timings']['ssl']\n",
    "                connect = entry['timings']['connect']\n",
    "\n",
    "                csv_file.writerow([i,method, url, urlparts.hostname,start_time, time,header_size, rsp_status, rsp_size_bytes, rsp_size_kilobytes, mimetype,\n",
    "                              wait, send, receive, blocked, dns, ssl, connect,cat_type])\n",
    "            harfile.close()\n",
    "            \n",
    "            shutil.copy2(file, har_path)\n",
    "            os.remove(file)\n",
    "    "
   ]
  },
  {
   "cell_type": "code",
   "execution_count": 7,
   "metadata": {
    "ExecuteTime": {
     "end_time": "2019-12-18T15:15:04.119432Z",
     "start_time": "2019-12-18T15:15:04.111432Z"
    }
   },
   "outputs": [],
   "source": [
    "csv_path = 'C:/Users/tianyi.fang/Desktop/TF/projects/WebPage_Audit/Chorme_Audit/CSVs/'\n",
    "csv_total_path = 'C:/Users/tianyi.fang/Desktop/TF/projects/WebPage_Audit/Chorme_Audit/CSVs_total/'\n",
    "har_path = 'C:/Users/tianyi.fang/Desktop/TF/projects/WebPage_Audit/Chorme_Audit/HARs/'          "
   ]
  },
  {
   "cell_type": "markdown",
   "metadata": {},
   "source": [
    "Convert multiple HAR files into 1 csv"
   ]
  },
  {
   "cell_type": "code",
   "execution_count": 13,
   "metadata": {
    "ExecuteTime": {
     "end_time": "2019-12-19T15:35:55.319432Z",
     "start_time": "2019-12-19T15:35:50.104432Z"
    }
   },
   "outputs": [
    {
     "name": "stdout",
     "output_type": "stream",
     "text": [
      "Analytics_191219075955.har\n",
      "Analytics_191219080157.har\n",
      "Analytics_191219080356.har\n",
      "Analytics_191219080552.har\n",
      "Analytics_191219080750.har\n",
      "Analytics_191219080948.har\n",
      "Analytics_191219081146.har\n",
      "Analytics_191219081343.har\n",
      "Analytics_191219081542.har\n",
      "Analytics_191219081739.har\n",
      "Analytics_191219081936.har\n",
      "Analytics_191219082133.har\n",
      "Analytics_191219082329.har\n",
      "Analytics_191219082527.har\n",
      "Analytics_191219082730.har\n",
      "Analytics_191219082930.har\n",
      "Analytics_191219083133.har\n",
      "Analytics_191219083329.har\n",
      "Analytics_191219083527.har\n",
      "Analytics_191219083724.har\n",
      "Analytics_191219084550.har\n",
      "Analytics_191219084751.har\n",
      "Analytics_191219084949.har\n",
      "Analytics_191219085146.har\n",
      "Analytics_191219085342.har\n",
      "Analytics_191219085542.har\n",
      "Analytics_191219085740.har\n",
      "Analytics_191219085942.har\n",
      "Analytics_191219090142.har\n",
      "Analytics_191219090345.har\n",
      "Analytics_191219090553.har\n",
      "Analytics_191219090750.har\n",
      "Analytics_191219090951.har\n",
      "Analytics_191219091153.har\n",
      "Analytics_191219091355.har\n",
      "Analytics_191219091556.har\n",
      "Analytics_191219091753.har\n",
      "Analytics_191219091954.har\n",
      "Analytics_191219092158.har\n",
      "Analytics_191219092403.har\n"
     ]
    }
   ],
   "source": [
    "har2csv_total(csv_total_path, 'Analytics', har_path, 'a')"
   ]
  },
  {
   "cell_type": "code",
   "execution_count": null,
   "metadata": {
    "ExecuteTime": {
     "end_time": "2019-12-13T19:35:54.978774Z",
     "start_time": "2019-12-13T19:35:54.793774Z"
    }
   },
   "outputs": [],
   "source": [
    "har2csv_total(csv_total_path, 'Analyticslocal', har_path, 'w')"
   ]
  },
  {
   "cell_type": "code",
   "execution_count": null,
   "metadata": {
    "ExecuteTime": {
     "end_time": "2019-12-06T14:25:17.640277Z",
     "start_time": "2019-12-06T14:25:17.628276Z"
    }
   },
   "outputs": [],
   "source": [
    "os.listdir()"
   ]
  },
  {
   "cell_type": "markdown",
   "metadata": {},
   "source": [
    "Move all HAR files to HARs folder"
   ]
  },
  {
   "cell_type": "code",
   "execution_count": null,
   "metadata": {},
   "outputs": [],
   "source": []
  },
  {
   "cell_type": "code",
   "execution_count": null,
   "metadata": {},
   "outputs": [],
   "source": [
    "<img src = \"C:/Users/tianyi.fang/Desktop/TF/projects/WebPage_Audit/Chorme_Audit/webpage_timing_overview.png\">"
   ]
  },
  {
   "cell_type": "markdown",
   "metadata": {},
   "source": [
    "# Argparse the har file\n",
    "This module is the 'recommended command-line parsing module in the Python standard library', which let you provide values for variables at runtime. It is useful when you want to change values for some variables, allow 'input' and 'output' values, etc.\n",
    "Check <a href = 'https://docs.python.org/3/library/argparse.html'>here</a> for tutorial.\n",
    "# Some research\n",
    "<img src = \"webpage_timing-overview.png\" height = 900, width = 700>\n"
   ]
  },
  {
   "cell_type": "code",
   "execution_count": null,
   "metadata": {},
   "outputs": [],
   "source": []
  },
  {
   "cell_type": "code",
   "execution_count": null,
   "metadata": {
    "ExecuteTime": {
     "end_time": "2019-12-05T18:16:27.606749Z",
     "start_time": "2019-12-05T18:16:27.590749Z"
    }
   },
   "outputs": [],
   "source": [
    "#Simple example\n",
    "ex_parser = argparse.ArgumentParser(description='Short Example')\n",
    "ex_parser.add_argument('-a', action = 'store_true', default = False) #a boolean option\n",
    "ex_parser.add_argument('-b', action = 'store', dest = 'b') # a string option\n",
    "ex_parser.add_argument('-c', action = 'store', dest = 'c', type = int) # an integer option\n",
    "ex_arg = ex_parser.parse_args(['-a', '-bval', '-c', '3'])\n",
    "print(ex_arg)\n",
    "print(ex_arg.c)"
   ]
  },
  {
   "cell_type": "code",
   "execution_count": null,
   "metadata": {
    "ExecuteTime": {
     "end_time": "2019-12-05T18:27:06.852549Z",
     "start_time": "2019-12-05T18:27:06.839549Z"
    }
   },
   "outputs": [],
   "source": [
    "parser = argparse.ArgumentParser(prog = 'parsehar', description='Parse .har files into comma separated values (csv).')\n",
    "parser.add_argument('harfile', type = str, help = har_path)\n",
    "args = parser.parse_args(har_path.split())\n",
    "print(args.harfile[0])"
   ]
  },
  {
   "cell_type": "markdown",
   "metadata": {},
   "source": [
    "## Some notes about HAR files\n",
    "Once you have the HAR files, you can convert to csv files or visualize it. \n",
    "1.**What to look for HAR files**<br>\n",
    "- How many items are loading. Typical items are javascript files, css files, templates and images."
   ]
  }
 ],
 "metadata": {
  "kernelspec": {
   "display_name": "Python 3",
   "language": "python",
   "name": "python3"
  },
  "language_info": {
   "codemirror_mode": {
    "name": "ipython",
    "version": 3
   },
   "file_extension": ".py",
   "mimetype": "text/x-python",
   "name": "python",
   "nbconvert_exporter": "python",
   "pygments_lexer": "ipython3",
   "version": "3.6.5"
  },
  "toc": {
   "base_numbering": 1,
   "nav_menu": {},
   "number_sections": true,
   "sideBar": true,
   "skip_h1_title": false,
   "title_cell": "Table of Contents",
   "title_sidebar": "Contents",
   "toc_cell": false,
   "toc_position": {
    "height": "calc(100% - 180px)",
    "left": "10px",
    "top": "150px",
    "width": "176px"
   },
   "toc_section_display": true,
   "toc_window_display": true
  },
  "varInspector": {
   "cols": {
    "lenName": 16,
    "lenType": 16,
    "lenVar": 40
   },
   "kernels_config": {
    "python": {
     "delete_cmd_postfix": "",
     "delete_cmd_prefix": "del ",
     "library": "var_list.py",
     "varRefreshCmd": "print(var_dic_list())"
    },
    "r": {
     "delete_cmd_postfix": ") ",
     "delete_cmd_prefix": "rm(",
     "library": "var_list.r",
     "varRefreshCmd": "cat(var_dic_list()) "
    }
   },
   "oldHeight": 354,
   "position": {
    "height": "40px",
    "left": "1310px",
    "right": "20px",
    "top": "119px",
    "width": "350px"
   },
   "types_to_exclude": [
    "module",
    "function",
    "builtin_function_or_method",
    "instance",
    "_Feature"
   ],
   "varInspector_section_display": "none",
   "window_display": true
  }
 },
 "nbformat": 4,
 "nbformat_minor": 2
}
